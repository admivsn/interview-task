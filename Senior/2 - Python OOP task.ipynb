{
 "cells": [
  {
   "attachments": {},
   "cell_type": "markdown",
   "metadata": {},
   "source": [
    "Technical interview - Python OOP task (senior)\n",
    "\n",
    "A class to mimic some simple calculator operations is defined below, however it does not work. Please fix the bugs and add methods to multiply, divide, and raise to power."
   ]
  },
  {
   "cell_type": "code",
   "execution_count": null,
   "metadata": {},
   "outputs": [],
   "source": [
    "class Calculator:\n",
    "\n",
    "    def add(x, y):\n",
    "        \"\"\"Add x and y.\"\"\"\n",
    "        return x + y\n",
    "\n",
    "    def subtract(x, y):\n",
    "        \"\"\"Subtract y from x.\"\"\"\n",
    "        y - x"
   ]
  },
  {
   "cell_type": "code",
   "execution_count": null,
   "metadata": {},
   "outputs": [],
   "source": [
    "calc = Calculator()\n",
    "\n",
    "calc.add(1, 2)\n",
    "calc.subtract(1, 2)\n",
    "calc.multiply(1, 2)\n",
    "calc.divide(1, 2)\n",
    "calc.power(1, 2)"
   ]
  }
 ],
 "metadata": {
  "kernelspec": {
   "display_name": "flutter-data-science-comp",
   "language": "python",
   "name": "python3"
  },
  "language_info": {
   "codemirror_mode": {
    "name": "ipython",
    "version": 3
   },
   "file_extension": ".py",
   "mimetype": "text/x-python",
   "name": "python",
   "nbconvert_exporter": "python",
   "pygments_lexer": "ipython3",
   "version": "3.10.14"
  },
  "orig_nbformat": 4,
  "vscode": {
   "interpreter": {
    "hash": "86255bfaf777d84280771ce642ca6a4dbdc183c2141afe9ee6dfe1354f05f73a"
   }
  }
 },
 "nbformat": 4,
 "nbformat_minor": 2
}
