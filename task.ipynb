{
 "cells": [
  {
   "cell_type": "code",
   "execution_count": 1,
   "metadata": {},
   "outputs": [],
   "source": [
    "import os\n",
    "os.chdir(\"/Users/adam.ivison/Documents/Repos/interview-task\")\n",
    "\n",
    "import pandas as pd"
   ]
  },
  {
   "cell_type": "code",
   "execution_count": 9,
   "metadata": {},
   "outputs": [],
   "source": [
    "# Pull data from GH\n",
    "df = pd.read_csv(\"https://raw.githubusercontent.com/adamcorren/horse_racing_data_analyzer/main/daily_data/2023-07-01/exchange_bookie_data.csv\")\n",
    "\n",
    "# Drop columns which infer target\n",
    "odds_cols = [\"BSP\", \"PPWAP\", \"MORNINGWAP\", \"PPMAX\", \"PPMIN\", \"IPMAX\", \"IPMIN\", \"MORNINGTRADEDVOL\", \"PPTRADEDVOL\", \"IPTRADEDVOL\", \"isp\"]\n",
    "result_cols = [\"position\", \"distance_behind\"]\n",
    "df = df.drop(columns=odds_cols + result_cols)\n",
    "\n",
    "# Write out to seperate files\n",
    "for (name,), dfg in df.groupby([\"MENU_HINT\"]):\n",
    "    dfg.to_csv(f\"{name}.csv\")"
   ]
  }
 ],
 "metadata": {
  "kernelspec": {
   "display_name": "flutter-data-science-comp",
   "language": "python",
   "name": "python3"
  },
  "language_info": {
   "codemirror_mode": {
    "name": "ipython",
    "version": 3
   },
   "file_extension": ".py",
   "mimetype": "text/x-python",
   "name": "python",
   "nbconvert_exporter": "python",
   "pygments_lexer": "ipython3",
   "version": "3.10.14"
  },
  "orig_nbformat": 4,
  "vscode": {
   "interpreter": {
    "hash": "86255bfaf777d84280771ce642ca6a4dbdc183c2141afe9ee6dfe1354f05f73a"
   }
  }
 },
 "nbformat": 4,
 "nbformat_minor": 2
}
